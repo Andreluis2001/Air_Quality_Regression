{
 "cells": [
  {
   "cell_type": "code",
   "execution_count": 21,
   "id": "7bb2cea0",
   "metadata": {},
   "outputs": [],
   "source": [
    "import pickle \n",
    "import os\n",
    "import sys\n",
    "from pathlib import Path\n",
    "\n",
    "import mlflow\n",
    "import pandas as pd\n",
    "\n",
    "air_quality_temperature_predictor_path = '../'\n",
    "sys.path.append(air_quality_temperature_predictor_path)\n",
    "\n",
    "from Air_Quality_temperature_predictor.utils import split_stratified\n",
    "from Air_Quality_temperature_predictor.data_preprocessing import DataTransformer\n",
    "from Air_Quality_temperature_predictor.model_test import test_model_cv"
   ]
  },
  {
   "cell_type": "code",
   "execution_count": 22,
   "id": "8301b8a8",
   "metadata": {},
   "outputs": [],
   "source": [
    "models_path = Path('../Air_Quality_temperature_predictor/models')\n",
    "\n",
    "model_files = os.listdir(models_path)\n",
    "model_names = [model.split('.')[0] for model in model_files]\n",
    "models = {}\n",
    "\n",
    "for model_name, model_file in zip(model_names, model_files):\n",
    "    model_path = models_path / model_file\n",
    "    with open(model_path, 'rb') as f:\n",
    "        models[model_name] = pickle.load(f)    "
   ]
  },
  {
   "cell_type": "code",
   "execution_count": 23,
   "id": "739eb902",
   "metadata": {},
   "outputs": [],
   "source": [
    "dataframe = pd.read_excel('../data/AirQualityUCI.xlsx')"
   ]
  },
  {
   "cell_type": "code",
   "execution_count": 24,
   "id": "0b21062b",
   "metadata": {},
   "outputs": [
    {
     "name": "stdout",
     "output_type": "stream",
     "text": [
      "(9357, 16)\n"
     ]
    }
   ],
   "source": [
    "train_data, test_data = split_stratified(dataframe)"
   ]
  },
  {
   "cell_type": "code",
   "execution_count": 25,
   "id": "b7140a2f",
   "metadata": {},
   "outputs": [],
   "source": [
    "X_train, y_train = train_data.drop(columns=['T'], axis=1), train_data['T']\n",
    "X_test, y_test = test_data.drop(columns=['T'], axis=1), test_data['T']"
   ]
  },
  {
   "cell_type": "code",
   "execution_count": 27,
   "id": "9377c8e6",
   "metadata": {},
   "outputs": [
    {
     "name": "stderr",
     "output_type": "stream",
     "text": [
      "2025/08/03 20:43:55 INFO mlflow.tracking.fluent: Experiment with name 'Air Quality Temperature Predictor (V1)' does not exist. Creating a new experiment.\n",
      "2025/08/03 20:43:57 WARNING mlflow.models.model: `artifact_path` is deprecated. Please use `name` instead.\n",
      "2025/08/03 20:44:05 WARNING mlflow.models.model: Model logged without a signature and input example. Please set `input_example` parameter when logging the model to auto infer the model signature.\n"
     ]
    },
    {
     "name": "stdout",
     "output_type": "stream",
     "text": [
      "🏃 View run DecisionTree_model_v1 at: http://localhost:5000/#/experiments/340528792396652266/runs/54405ff1358a49f4951de7fbd713691b\n",
      "🧪 View experiment at: http://localhost:5000/#/experiments/340528792396652266\n"
     ]
    },
    {
     "name": "stderr",
     "output_type": "stream",
     "text": [
      "2025/08/03 20:44:06 WARNING mlflow.models.model: `artifact_path` is deprecated. Please use `name` instead.\n",
      "2025/08/03 20:44:11 WARNING mlflow.models.model: Model logged without a signature and input example. Please set `input_example` parameter when logging the model to auto infer the model signature.\n"
     ]
    },
    {
     "name": "stdout",
     "output_type": "stream",
     "text": [
      "🏃 View run Linear_model_v1 at: http://localhost:5000/#/experiments/340528792396652266/runs/3a963cc7addf47ca9165c38dc57b54d5\n",
      "🧪 View experiment at: http://localhost:5000/#/experiments/340528792396652266\n"
     ]
    },
    {
     "name": "stderr",
     "output_type": "stream",
     "text": [
      "2025/08/03 20:44:26 WARNING mlflow.models.model: `artifact_path` is deprecated. Please use `name` instead.\n",
      "2025/08/03 20:44:31 WARNING mlflow.models.model: Model logged without a signature and input example. Please set `input_example` parameter when logging the model to auto infer the model signature.\n"
     ]
    },
    {
     "name": "stdout",
     "output_type": "stream",
     "text": [
      "🏃 View run RandomForest_model_v1 at: http://localhost:5000/#/experiments/340528792396652266/runs/d8db31a037bb4e69b18c981db918ea13\n",
      "🧪 View experiment at: http://localhost:5000/#/experiments/340528792396652266\n"
     ]
    },
    {
     "name": "stderr",
     "output_type": "stream",
     "text": [
      "2025/08/03 20:44:33 WARNING mlflow.models.model: `artifact_path` is deprecated. Please use `name` instead.\n",
      "2025/08/03 20:44:38 WARNING mlflow.models.model: Model logged without a signature and input example. Please set `input_example` parameter when logging the model to auto infer the model signature.\n"
     ]
    },
    {
     "name": "stdout",
     "output_type": "stream",
     "text": [
      "🏃 View run SGD_model_v1 at: http://localhost:5000/#/experiments/340528792396652266/runs/d54749c42c8c41d580608529ab66a043\n",
      "🧪 View experiment at: http://localhost:5000/#/experiments/340528792396652266\n"
     ]
    },
    {
     "name": "stderr",
     "output_type": "stream",
     "text": [
      "2025/08/03 20:44:42 WARNING mlflow.models.model: `artifact_path` is deprecated. Please use `name` instead.\n",
      "2025/08/03 20:44:46 WARNING mlflow.models.model: Model logged without a signature and input example. Please set `input_example` parameter when logging the model to auto infer the model signature.\n"
     ]
    },
    {
     "name": "stdout",
     "output_type": "stream",
     "text": [
      "🏃 View run SVM_model_v1 at: http://localhost:5000/#/experiments/340528792396652266/runs/06d21dbc0f7040248b8bfe9e5a0aca6a\n",
      "🧪 View experiment at: http://localhost:5000/#/experiments/340528792396652266\n"
     ]
    }
   ],
   "source": [
    "mlflow.set_tracking_uri('http://localhost:5000')\n",
    "\n",
    "mlflow.set_experiment('Air Quality Temperature Predictor (V1)')\n",
    "\n",
    "for model_name, model in models.items():\n",
    "\n",
    "    model_params = model['model'].get_params()\n",
    "    scores = test_model_cv(model, X_test, y_test)\n",
    "    mean = scores.mean()\n",
    "    std = scores.std()\n",
    "\n",
    "    with mlflow.start_run(run_name=model_name):\n",
    "        mlflow.log_params(model_params)\n",
    "        mlflow.log_metric('mean_score', mean)\n",
    "        mlflow.log_metric('std_score', std)\n",
    "        mlflow.sklearn.log_model(model, model_name)"
   ]
  }
 ],
 "metadata": {
  "kernelspec": {
   "display_name": "Air_Regression_env",
   "language": "python",
   "name": "python3"
  },
  "language_info": {
   "codemirror_mode": {
    "name": "ipython",
    "version": 3
   },
   "file_extension": ".py",
   "mimetype": "text/x-python",
   "name": "python",
   "nbconvert_exporter": "python",
   "pygments_lexer": "ipython3",
   "version": "3.11.13"
  }
 },
 "nbformat": 4,
 "nbformat_minor": 5
}

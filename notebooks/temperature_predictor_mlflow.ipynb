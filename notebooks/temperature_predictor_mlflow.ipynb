{
 "cells": [
  {
   "cell_type": "code",
   "execution_count": null,
   "id": "7bb2cea0",
   "metadata": {},
   "outputs": [],
   "source": [
    "import pickle \n",
    "import os\n",
    "import sys\n",
    "from pathlib import Path\n",
    "\n",
    "import mlflow\n",
    "import pandas as pd\n",
    "\n",
    "air_quality_temperature_predictor_path = '../'\n",
    "sys.path.append(air_quality_temperature_predictor_path)\n",
    "\n",
    "from Air_Quality_temperature_predictor.utils import split_stratified\n",
    "from Air_Quality_temperature_predictor.data_preprocessing import DataTransformer\n",
    "from Air_Quality_temperature_predictor.model_test import test_model_cv"
   ]
  },
  {
   "cell_type": "code",
   "execution_count": 73,
   "id": "8301b8a8",
   "metadata": {},
   "outputs": [
    {
     "name": "stdout",
     "output_type": "stream",
     "text": [
      "Loaded models: {'DecisionTree_model_v1': Pipeline(steps=[('preprocessor',\n",
      "                 ColumnTransformer(transformers=[('numerical',\n",
      "                                                  Pipeline(steps=[('imputer',\n",
      "                                                                   SimpleImputer(missing_values=-200)),\n",
      "                                                                  ('scaler',\n",
      "                                                                   StandardScaler())]),\n",
      "                                                  ['CO(GT)', 'PT08.S1(CO)',\n",
      "                                                   'NMHC(GT)', 'C6H6(GT)',\n",
      "                                                   'PT08.S2(NMHC)', 'NOx(GT)',\n",
      "                                                   'PT08.S3(NOx)', 'NO2(GT)',\n",
      "                                                   'PT08.S4(NO2)',\n",
      "                                                   'PT08.S5(O3)', 'RH', 'AH']),\n",
      "                                                 ('categorical',\n",
      "                                                  Pipeline(steps=[('transformer',\n",
      "                                                                   DataTransformer()),\n",
      "                                                                  ('ohe_encoder',\n",
      "                                                                   OneHotEncoder(drop='first',\n",
      "                                                                                 handle_unknown='ignore',\n",
      "                                                                                 sparse_output=False))]),\n",
      "                                                  ['Date', 'Time'])])),\n",
      "                ('model',\n",
      "                 DecisionTreeRegressor(max_depth=20, min_samples_split=5))]), 'Linear_model_v1': Pipeline(steps=[('preprocessor',\n",
      "                 ColumnTransformer(transformers=[('numerical',\n",
      "                                                  Pipeline(steps=[('imputer',\n",
      "                                                                   SimpleImputer(missing_values=-200)),\n",
      "                                                                  ('scaler',\n",
      "                                                                   StandardScaler())]),\n",
      "                                                  ['CO(GT)', 'PT08.S1(CO)',\n",
      "                                                   'NMHC(GT)', 'C6H6(GT)',\n",
      "                                                   'PT08.S2(NMHC)', 'NOx(GT)',\n",
      "                                                   'PT08.S3(NOx)', 'NO2(GT)',\n",
      "                                                   'PT08.S4(NO2)',\n",
      "                                                   'PT08.S5(O3)', 'RH', 'AH']),\n",
      "                                                 ('categorical',\n",
      "                                                  Pipeline(steps=[('transformer',\n",
      "                                                                   DataTransformer()),\n",
      "                                                                  ('ohe_encoder',\n",
      "                                                                   OneHotEncoder(drop='first',\n",
      "                                                                                 handle_unknown='ignore',\n",
      "                                                                                 sparse_output=False))]),\n",
      "                                                  ['Date', 'Time'])])),\n",
      "                ('model', LinearRegression())]), 'RandomForest_model_v1': Pipeline(steps=[('preprocessor',\n",
      "                 ColumnTransformer(transformers=[('numerical',\n",
      "                                                  Pipeline(steps=[('imputer',\n",
      "                                                                   SimpleImputer(missing_values=-200)),\n",
      "                                                                  ('scaler',\n",
      "                                                                   StandardScaler())]),\n",
      "                                                  ['CO(GT)', 'PT08.S1(CO)',\n",
      "                                                   'NMHC(GT)', 'C6H6(GT)',\n",
      "                                                   'PT08.S2(NMHC)', 'NOx(GT)',\n",
      "                                                   'PT08.S3(NOx)', 'NO2(GT)',\n",
      "                                                   'PT08.S4(NO2)',\n",
      "                                                   'PT08.S5(O3)', 'RH', 'AH']),\n",
      "                                                 ('categorical',\n",
      "                                                  Pipeline(steps=[('transformer',\n",
      "                                                                   DataTransformer()),\n",
      "                                                                  ('ohe_encoder',\n",
      "                                                                   OneHotEncoder(drop='first',\n",
      "                                                                                 handle_unknown='ignore',\n",
      "                                                                                 sparse_output=False))]),\n",
      "                                                  ['Date', 'Time'])])),\n",
      "                ('model', RandomForestRegressor(min_samples_leaf=2))]), 'SGD_model_v1': Pipeline(steps=[('preprocessor',\n",
      "                 ColumnTransformer(transformers=[('numerical',\n",
      "                                                  Pipeline(steps=[('imputer',\n",
      "                                                                   SimpleImputer(missing_values=-200)),\n",
      "                                                                  ('scaler',\n",
      "                                                                   StandardScaler())]),\n",
      "                                                  ['CO(GT)', 'PT08.S1(CO)',\n",
      "                                                   'NMHC(GT)', 'C6H6(GT)',\n",
      "                                                   'PT08.S2(NMHC)', 'NOx(GT)',\n",
      "                                                   'PT08.S3(NOx)', 'NO2(GT)',\n",
      "                                                   'PT08.S4(NO2)',\n",
      "                                                   'PT08.S5(O3)', 'RH', 'AH']),\n",
      "                                                 ('categorical',\n",
      "                                                  Pipeline(steps=[('transformer',\n",
      "                                                                   DataTransformer()),\n",
      "                                                                  ('ohe_encoder',\n",
      "                                                                   OneHotEncoder(drop='first',\n",
      "                                                                                 handle_unknown='ignore',\n",
      "                                                                                 sparse_output=False))]),\n",
      "                                                  ['Date', 'Time'])])),\n",
      "                ('model', SGDRegressor(alpha=0.001, penalty='l1'))]), 'SVM_model_v1': Pipeline(steps=[('preprocessor',\n",
      "                 ColumnTransformer(transformers=[('numerical',\n",
      "                                                  Pipeline(steps=[('imputer',\n",
      "                                                                   SimpleImputer(missing_values=-200)),\n",
      "                                                                  ('scaler',\n",
      "                                                                   StandardScaler())]),\n",
      "                                                  ['CO(GT)', 'PT08.S1(CO)',\n",
      "                                                   'NMHC(GT)', 'C6H6(GT)',\n",
      "                                                   'PT08.S2(NMHC)', 'NOx(GT)',\n",
      "                                                   'PT08.S3(NOx)', 'NO2(GT)',\n",
      "                                                   'PT08.S4(NO2)',\n",
      "                                                   'PT08.S5(O3)', 'RH', 'AH']),\n",
      "                                                 ('categorical',\n",
      "                                                  Pipeline(steps=[('transformer',\n",
      "                                                                   DataTransformer()),\n",
      "                                                                  ('ohe_encoder',\n",
      "                                                                   OneHotEncoder(drop='first',\n",
      "                                                                                 handle_unknown='ignore',\n",
      "                                                                                 sparse_output=False))]),\n",
      "                                                  ['Date', 'Time'])])),\n",
      "                ('model', SVR(C=10))])}\n"
     ]
    }
   ],
   "source": [
    "models_path = Path('../Air_Quality_temperature_predictor/models')\n",
    "\n",
    "model_files = os.listdir(models_path)\n",
    "model_names = [model.split('.')[0] for model in model_files]\n",
    "models = {}\n",
    "\n",
    "for model_name, model_file in zip(model_names, model_files):\n",
    "    model_path = models_path / model_file\n",
    "    with open(model_path, 'rb') as f:\n",
    "        models[model_name] = pickle.load(f)\n",
    "print(f\"Loaded models: {models}\")\n",
    "    "
   ]
  },
  {
   "cell_type": "code",
   "execution_count": 74,
   "id": "739eb902",
   "metadata": {},
   "outputs": [],
   "source": [
    "dataframe = pd.read_excel('../data/AirQualityUCI.xlsx')"
   ]
  },
  {
   "cell_type": "code",
   "execution_count": 75,
   "id": "0b21062b",
   "metadata": {},
   "outputs": [
    {
     "name": "stdout",
     "output_type": "stream",
     "text": [
      "(9357, 16)\n"
     ]
    }
   ],
   "source": [
    "train_data, test_data = split_stratified(dataframe)"
   ]
  },
  {
   "cell_type": "code",
   "execution_count": 76,
   "id": "b7140a2f",
   "metadata": {},
   "outputs": [],
   "source": [
    "X_train, y_train = train_data.drop(columns=['T'], axis=1), train_data['T']\n",
    "X_test, y_test = test_data.drop(columns=['T'], axis=1), test_data['T']"
   ]
  },
  {
   "cell_type": "code",
   "execution_count": null,
   "id": "9377c8e6",
   "metadata": {},
   "outputs": [],
   "source": [
    "mlflow.set_tracking_uri('http://localhost:5000')\n",
    "\n",
    "mlflow.set_experiment('Air Quality Temperature Predictor (V1)')\n",
    "\n",
    "for model_name, model in models.items():\n",
    "\n",
    "    model_params = model['model'].get_params()\n",
    "    scores = test_model_cv(model, X_test, y_test)\n",
    "    mean = scores.mean()\n",
    "    std = scores.std()\n",
    "\n",
    "    with mlflow.start_run(run_name=model_name):\n",
    "        mlflow.log_params(model_params)\n",
    "        mlflow.log_metric('mean_score', mean)\n",
    "        mlflow.log_metric('std_score', std)\n",
    "        mlflow.sklearn.log_model(model, model_name)"
   ]
  }
 ],
 "metadata": {
  "kernelspec": {
   "display_name": "Air_Regression_env",
   "language": "python",
   "name": "python3"
  },
  "language_info": {
   "codemirror_mode": {
    "name": "ipython",
    "version": 3
   },
   "file_extension": ".py",
   "mimetype": "text/x-python",
   "name": "python",
   "nbconvert_exporter": "python",
   "pygments_lexer": "ipython3",
   "version": "3.11.13"
  }
 },
 "nbformat": 4,
 "nbformat_minor": 5
}

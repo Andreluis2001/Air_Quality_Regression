{
 "cells": [
  {
   "cell_type": "code",
   "execution_count": 7,
   "id": "7bb2cea0",
   "metadata": {},
   "outputs": [],
   "source": [
    "import pickle \n",
    "import os\n",
    "import sys\n",
    "from pathlib import Path\n",
    "\n",
    "import mlflow\n",
    "import pandas as pd\n",
    "\n",
    "air_quality_temperature_predictor_path = '../'\n",
    "sys.path.append(air_quality_temperature_predictor_path)\n",
    "\n",
    "from Air_Quality_temperature_predictor import utils"
   ]
  },
  {
   "cell_type": "code",
   "execution_count": 18,
   "id": "ece56df1",
   "metadata": {},
   "outputs": [
    {
     "name": "stdout",
     "output_type": "stream",
     "text": [
      "Tracking uri: file:///c:/Users/andre/OneDrive/Documentos/Code/Machine_Learning/Air_Quality_regression/experiments/experiment-01/mlruns\n"
     ]
    }
   ],
   "source": [
    "print(f\"Tracking uri: {mlflow.get_tracking_uri()}\")"
   ]
  },
  {
   "cell_type": "code",
   "execution_count": 19,
   "id": "8301b8a8",
   "metadata": {},
   "outputs": [
    {
     "name": "stdout",
     "output_type": "stream",
     "text": [
      "Loaded models: {'01-DecisionTree_model': DecisionTreeRegressor(), '01-RandomForest_model': RandomForestRegressor(max_depth=20, min_samples_split=5, n_estimators=200), '01-SGD_model': SGDRegressor(alpha=1e-05, penalty='l1'), '01-SVM_model': SVR(C=10)}\n"
     ]
    }
   ],
   "source": [
    "models_path = Path('../../models/experiment-01_models/regression_models')\n",
    "\n",
    "model_files = os.listdir(models_path)\n",
    "model_names = [model.split('.')[0] for model in model_files]\n",
    "models = {}\n",
    "\n",
    "for model_name, model_file in zip(model_names, model_files):\n",
    "    model_path = models_path / model_file\n",
    "    with open(model_path, 'rb') as f:\n",
    "        models[model_name] = pickle.load(f)\n",
    "print(f\"Loaded models: {models}\")\n",
    "    "
   ]
  },
  {
   "cell_type": "code",
   "execution_count": 20,
   "id": "739eb902",
   "metadata": {},
   "outputs": [],
   "source": [
    "dataframe = pd.read_excel('../../data/AirQualityUCI.xlsx')"
   ]
  },
  {
   "cell_type": "code",
   "execution_count": 21,
   "id": "0b21062b",
   "metadata": {},
   "outputs": [
    {
     "name": "stdout",
     "output_type": "stream",
     "text": [
      "(9357, 16)\n"
     ]
    }
   ],
   "source": [
    "train_data, test_data = data.split_stratified(dataframe)"
   ]
  },
  {
   "cell_type": "code",
   "execution_count": 32,
   "id": "9eced395",
   "metadata": {},
   "outputs": [
    {
     "ename": "PermissionError",
     "evalue": "[Errno 13] Permission denied: '..\\\\..\\\\models\\\\experiment-01_models\\\\data_pipelines'",
     "output_type": "error",
     "traceback": [
      "\u001b[31m---------------------------------------------------------------------------\u001b[39m",
      "\u001b[31mPermissionError\u001b[39m                           Traceback (most recent call last)",
      "\u001b[36mCell\u001b[39m\u001b[36m \u001b[39m\u001b[32mIn[32]\u001b[39m\u001b[32m, line 9\u001b[39m\n\u001b[32m      7\u001b[39m \u001b[38;5;28;01mfor\u001b[39;00m model_name, model_file \u001b[38;5;129;01min\u001b[39;00m \u001b[38;5;28mzip\u001b[39m(model_names, model_files):\n\u001b[32m      8\u001b[39m     model_path = models_path / model_file\n\u001b[32m----> \u001b[39m\u001b[32m9\u001b[39m     \u001b[38;5;28;01mwith\u001b[39;00m \u001b[38;5;28;43mopen\u001b[39;49m\u001b[43m(\u001b[49m\u001b[43mpipelines_path\u001b[49m\u001b[43m,\u001b[49m\u001b[43m \u001b[49m\u001b[33;43m'\u001b[39;49m\u001b[33;43mrb\u001b[39;49m\u001b[33;43m'\u001b[39;49m\u001b[43m)\u001b[49m \u001b[38;5;28;01mas\u001b[39;00m f:\n\u001b[32m     10\u001b[39m         pipelines[model_name] = pickle.load(f)\n\u001b[32m     11\u001b[39m \u001b[38;5;28mprint\u001b[39m(\u001b[33mf\u001b[39m\u001b[33m\"\u001b[39m\u001b[33mLoaded pipelines: \u001b[39m\u001b[38;5;132;01m{\u001b[39;00mpipelines\u001b[38;5;132;01m}\u001b[39;00m\u001b[33m\"\u001b[39m)\n",
      "\u001b[36mFile \u001b[39m\u001b[32mc:\\Users\\andre\\miniconda3\\envs\\Air_Regression_env\\Lib\\site-packages\\IPython\\core\\interactiveshell.py:343\u001b[39m, in \u001b[36m_modified_open\u001b[39m\u001b[34m(file, *args, **kwargs)\u001b[39m\n\u001b[32m    336\u001b[39m \u001b[38;5;28;01mif\u001b[39;00m file \u001b[38;5;129;01min\u001b[39;00m {\u001b[32m0\u001b[39m, \u001b[32m1\u001b[39m, \u001b[32m2\u001b[39m}:\n\u001b[32m    337\u001b[39m     \u001b[38;5;28;01mraise\u001b[39;00m \u001b[38;5;167;01mValueError\u001b[39;00m(\n\u001b[32m    338\u001b[39m         \u001b[33mf\u001b[39m\u001b[33m\"\u001b[39m\u001b[33mIPython won\u001b[39m\u001b[33m'\u001b[39m\u001b[33mt let you open fd=\u001b[39m\u001b[38;5;132;01m{\u001b[39;00mfile\u001b[38;5;132;01m}\u001b[39;00m\u001b[33m by default \u001b[39m\u001b[33m\"\u001b[39m\n\u001b[32m    339\u001b[39m         \u001b[33m\"\u001b[39m\u001b[33mas it is likely to crash IPython. If you know what you are doing, \u001b[39m\u001b[33m\"\u001b[39m\n\u001b[32m    340\u001b[39m         \u001b[33m\"\u001b[39m\u001b[33myou can use builtins\u001b[39m\u001b[33m'\u001b[39m\u001b[33m open.\u001b[39m\u001b[33m\"\u001b[39m\n\u001b[32m    341\u001b[39m     )\n\u001b[32m--> \u001b[39m\u001b[32m343\u001b[39m \u001b[38;5;28;01mreturn\u001b[39;00m \u001b[43mio_open\u001b[49m\u001b[43m(\u001b[49m\u001b[43mfile\u001b[49m\u001b[43m,\u001b[49m\u001b[43m \u001b[49m\u001b[43m*\u001b[49m\u001b[43margs\u001b[49m\u001b[43m,\u001b[49m\u001b[43m \u001b[49m\u001b[43m*\u001b[49m\u001b[43m*\u001b[49m\u001b[43mkwargs\u001b[49m\u001b[43m)\u001b[49m\n",
      "\u001b[31mPermissionError\u001b[39m: [Errno 13] Permission denied: '..\\\\..\\\\models\\\\experiment-01_models\\\\data_pipelines'"
     ]
    }
   ],
   "source": [
    "pipelines_path = Path('../../models/experiment-01_models/data_pipelines')\n",
    "\n",
    "model_files = os.listdir(pipelines_path)\n",
    "model_names = [model.split('.')[0] for model in model_files]\n",
    "pipelines = {}\n",
    "\n",
    "for model_name, model_file in zip(model_names, model_files):\n",
    "    model_path = models_path / model_file\n",
    "    with open(pipelines_path, 'rb') as f:\n",
    "        pipelines[model_name] = pickle.load(f)\n",
    "print(f\"Loaded pipelines: {pipelines}\")"
   ]
  }
 ],
 "metadata": {
  "kernelspec": {
   "display_name": "Air_Regression_env",
   "language": "python",
   "name": "python3"
  },
  "language_info": {
   "codemirror_mode": {
    "name": "ipython",
    "version": 3
   },
   "file_extension": ".py",
   "mimetype": "text/x-python",
   "name": "python",
   "nbconvert_exporter": "python",
   "pygments_lexer": "ipython3",
   "version": "3.11.13"
  }
 },
 "nbformat": 4,
 "nbformat_minor": 5
}
